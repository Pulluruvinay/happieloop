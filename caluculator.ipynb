{
 "cells": [
  {
   "cell_type": "code",
   "execution_count": null,
   "id": "63247eed",
   "metadata": {},
   "outputs": [],
   "source": []
  },
  {
   "cell_type": "code",
   "execution_count": null,
   "id": "e02f8f63",
   "metadata": {},
   "outputs": [],
   "source": []
  },
  {
   "cell_type": "code",
   "execution_count": 8,
   "id": "7b2ca8a1",
   "metadata": {},
   "outputs": [
    {
     "name": "stdout",
     "output_type": "stream",
     "text": [
      "please select the opreation-\n",
      "1.add\n",
      "2.subtract\n",
      "3.multiply\n",
      "4.divide\n",
      "\n",
      "select operation from 1,2,3,4:4\n",
      "enter the first number4\n",
      "enter the second number2\n",
      "4 / 2 = 2.0\n"
     ]
    }
   ],
   "source": [
    "#python program for simple caluculator\n",
    "#function to adding two numbers\n",
    "def add(num1,num2):\n",
    "    return num1 + num2\n",
    "#function to subtracting two numbers\n",
    "def subtract(num1,num2):\n",
    "    return num1 - num2\n",
    "#function to multiply two numbers\n",
    "def multiply(num1,num2):\n",
    "    return num1 * num2\n",
    "#function to division two numbers\n",
    "def division(num1,num2):\n",
    "    return num1 / num2\n",
    "print(\"please select the opreation-\\n\"\\\n",
    "       \"1.add\\n\"\\\n",
    "       \"2.subtract\\n\"\\\n",
    "       \"3.multiply\\n\"\\\n",
    "       \"4.divide\\n\")\n",
    "#take input from the users\n",
    "select = int(input(\"select operation from 1,2,3,4:\"))\n",
    "number_1=int(input(\"enter the first number\"))\n",
    "number_2=int(input(\"enter the second number\"))\n",
    "if select ==1:\n",
    "    print(number_1,\"+\",number_2,\"=\",add(number_1,number_2))\n",
    "elif select ==2:\n",
    "    print(number_1,\"-\",number_2,\"=\",subtract(number_1,number_2))\n",
    "elif select ==3:\n",
    "    print(number_1,\"*\",number_2,\"=\",multiply(number_1,number_2))\n",
    "elif select ==4:\n",
    "    print(number_1,\"/\",number_2,\"=\",division(number_1,number_2))\n",
    "else:\n",
    "    print(\"invalid input: \")"
   ]
  },
  {
   "cell_type": "code",
   "execution_count": null,
   "id": "1b05f335",
   "metadata": {},
   "outputs": [],
   "source": []
  }
 ],
 "metadata": {
  "kernelspec": {
   "display_name": "Python 3 (ipykernel)",
   "language": "python",
   "name": "python3"
  },
  "language_info": {
   "codemirror_mode": {
    "name": "ipython",
    "version": 3
   },
   "file_extension": ".py",
   "mimetype": "text/x-python",
   "name": "python",
   "nbconvert_exporter": "python",
   "pygments_lexer": "ipython3",
   "version": "3.11.3"
  }
 },
 "nbformat": 4,
 "nbformat_minor": 5
}
